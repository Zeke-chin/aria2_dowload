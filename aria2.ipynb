{
 "cells": [
  {
   "cell_type": "code",
   "execution_count": null,
   "metadata": {
    "collapsed": false
   },
   "outputs": [],
   "source": [
    "from typing import List\n",
    "import xmlrpc.client\n",
    "from bs4 import BeautifulSoup\n",
    "import requests\n",
    "from pathlib import Path\n",
    "\n",
    "\n",
    "class RPCSender(object):\n",
    "    def __init__(self, server_url: str, token: str):\n",
    "        self.server_proxy = xmlrpc.client.ServerProxy(server_url)\n",
    "        self.token = token\n",
    "\n",
    "    def download_url(self, url: str, dir: str):\n",
    "        options = {\"dir\": dir, \"out\": Path(url).name}\n",
    "        gid = self.server_proxy.aria2.addUri(\"token:\" + self.token, [url], options)\n",
    "        print(f\"Download started with GID: {gid}\")\n",
    "\n",
    "    def download_urls(self, urls: List[str], dir: str):\n",
    "        for url in urls:\n",
    "            self.download_url(url, dir)\n",
    "\n",
    "\n",
    "def get_hub(url):\n",
    "    url_cut = url.split('https://huggingface.co')[-1].replace('tree', 'resolve')\n",
    "    response = requests.get(url)\n",
    "    soup = BeautifulSoup(response.content, \"html.parser\")\n",
    "\n",
    "    file_links = []\n",
    "\n",
    "    for link in soup.find_all(\"a\"):\n",
    "        href = link.get(\"href\")\n",
    "        if href.startswith(url_cut):\n",
    "            file_links.append(f\"https://huggingface.co{href}\")\n",
    "    return file_links"
   ]
  },
  {
   "cell_type": "code",
   "execution_count": null,
   "metadata": {
    "collapsed": false
   },
   "outputs": [],
   "source": [
    "server_url = \"http://192.155.1.11:6800/jsonrpc\"\n",
    "token = '113113'\n",
    "model_url = \"https://huggingface.co/decapoda-research/llama-7b-hf/tree/main\"\n",
    "model_download_dir = \"/downloads/llama-7b-hf\"\n",
    "download_links = get_hub(model_url)\n",
    "download_links"
   ]
  },
  {
   "cell_type": "code",
   "execution_count": null,
   "metadata": {
    "collapsed": false
   },
   "outputs": [],
   "source": [
    "aria2.download_urls(download_links, model_download_dir)"
   ]
  }
 ],
 "metadata": {
  "kernelspec": {
   "display_name": "Python 3",
   "language": "python",
   "name": "python3"
  },
  "language_info": {
   "codemirror_mode": {
    "name": "ipython",
    "version": 3
   },
   "file_extension": ".py",
   "mimetype": "text/x-python",
   "name": "python",
   "nbconvert_exporter": "python",
   "pygments_lexer": "ipython3",
   "version": "3.8.13"
  }
 },
 "nbformat": 4,
 "nbformat_minor": 0
}
