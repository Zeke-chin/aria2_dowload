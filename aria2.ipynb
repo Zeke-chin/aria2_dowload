{
 "cells": [
  {
   "cell_type": "code",
   "execution_count": 18,
   "outputs": [],
   "source": [
    "from typing import List\n",
    "import xmlrpc.client\n",
    "from bs4 import BeautifulSoup\n",
    "import requests\n",
    "from pathlib import Path\n",
    "\n",
    "\n",
    "class RPCSender(object):\n",
    "    def __init__(self, server_url: str, token: str):\n",
    "        self.server_proxy = xmlrpc.client.ServerProxy(server_url)\n",
    "        self.token = token\n",
    "\n",
    "    def download_url(self, url: str, dir: str):\n",
    "        Path(dir).mkdir(parents=True, exist_ok=True)\n",
    "        options = {\"dir\": dir}\n",
    "        gid = self.server_proxy.aria2.addUri(\"token:\" + self.token, [url], options)\n",
    "        print(f\"Download started with GID: {gid}\")\n",
    "\n",
    "    def download_urls(self, urls: List[str], dir: str):\n",
    "        for url in urls:\n",
    "            self.download_url(url, dir)\n",
    "\n",
    "\n",
    "def get_hub(url):\n",
    "    url_cut = url.split('https://huggingface.co')[-1].replace('tree', 'resolve')\n",
    "    response = requests.get(url)\n",
    "    soup = BeautifulSoup(response.content, \"html.parser\")\n",
    "\n",
    "    file_links = []\n",
    "\n",
    "    for link in soup.find_all(\"a\"):\n",
    "        href = link.get(\"href\")\n",
    "        if href.startswith(url_cut):\n",
    "            file_links.append(f\"https://huggingface.co{href}\")\n",
    "    return file_links"
   ],
   "metadata": {
    "collapsed": false
   }
  },
  {
   "cell_type": "code",
   "execution_count": 19,
   "outputs": [],
   "source": [
    "server_url = \"http://localhost:16800/rpc\"\n",
    "token = '113113'\n",
    "model_url = \"https://huggingface.co/facebook/m2m100_418M/tree/main\"\n",
    "model_download_dir = \"/Users/zeke/Downloads/m2m\""
   ],
   "metadata": {
    "collapsed": false
   }
  },
  {
   "cell_type": "code",
   "execution_count": 20,
   "outputs": [],
   "source": [
    "aria2 = RPCSender(server_url, token)\n",
    "model_urls = get_hub(model_url)\n",
    "aria2.download_urls(model_urls, model_download_dir)"
   ],
   "metadata": {
    "collapsed": false
   }
  }
 ],
 "metadata": {
  "kernelspec": {
   "display_name": "Python 3",
   "language": "python",
   "name": "python3"
  },
  "language_info": {
   "codemirror_mode": {
    "name": "ipython",
    "version": 2
   },
   "file_extension": ".py",
   "mimetype": "text/x-python",
   "name": "python",
   "nbconvert_exporter": "python",
   "pygments_lexer": "ipython2",
   "version": "2.7.6"
  }
 },
 "nbformat": 4,
 "nbformat_minor": 0
}
