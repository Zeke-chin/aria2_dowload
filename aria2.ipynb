{
 "cells": [
  {
   "cell_type": "code",
   "execution_count": 1,
   "metadata": {
    "collapsed": false
   },
   "outputs": [],
   "source": [
    "from typing import List\n",
    "import xmlrpc.client\n",
    "import socket\n",
    "from bs4 import BeautifulSoup\n",
    "import requests\n",
    "from pathlib import Path\n",
    "\n",
    "\n",
    "class RPCSender(object):\n",
    "    def __init__(self, server_url: str, token: str):\n",
    "        self.server_proxy = xmlrpc.client.ServerProxy(server_url)\n",
    "        self.token = token\n",
    "        self.test_connection()\n",
    "\n",
    "    def test_connection(self):\n",
    "        try:\n",
    "            version = self.server_proxy.aria2.getVersion(\"token:\" + self.token)\n",
    "            print(f\"Connected to server. Version: {version['version']}\")\n",
    "        except socket.timeout:\n",
    "            print(\"Connection to server timed out.\")\n",
    "        except Exception as e:\n",
    "            print(f\"Failed to connect to server: {e}\")\n",
    "\n",
    "    def download_url(self, url: str):\n",
    "        options = {\"dir\": Path(url).parent.parent.parent.name, \"out\": Path(url).name}\n",
    "        gid = self.server_proxy.aria2.addUri(\"token:\" + self.token, [url], options)\n",
    "        print(f\"Download started with GID: {gid}\")\n",
    "\n",
    "    def download_urls(self, urls: List[str]):\n",
    "        for url in urls:\n",
    "            self.download_url(url)\n",
    "\n",
    "\n",
    "def get_hub(url):\n",
    "    url_cut = url.split('https://huggingface.co')[-1].replace('tree', 'resolve')\n",
    "    response = requests.get(url)\n",
    "    soup = BeautifulSoup(response.content, \"html.parser\")\n",
    "\n",
    "    file_links = []\n",
    "\n",
    "    for link in soup.find_all(\"a\"):\n",
    "        href = link.get(\"href\")\n",
    "        if href.startswith(url_cut):\n",
    "            file_links.append(f\"https://huggingface.co{href}\")\n",
    "    for fl in file_links:\n",
    "        print(fl)\n",
    "    return file_links"
   ]
  },
  {
   "cell_type": "code",
   "execution_count": 2,
   "metadata": {
    "collapsed": false
   },
   "outputs": [
    {
     "name": "stdout",
     "output_type": "stream",
     "text": [
      "Connected to server. Version: 1.36.0\n"
     ]
    }
   ],
   "source": [
    "server_url = \"http://192.155.1.11:6800/rpc\"\n",
    "token = '113113'\n",
    "model_url = \"https://huggingface.co/hfl/chinese-electra-180g-small-ex-discriminator/tree/main\"\n",
    "\n",
    "rpc = RPCSender(server_url, token)"
   ]
  },
  {
   "cell_type": "code",
   "execution_count": 3,
   "metadata": {
    "collapsed": false
   },
   "outputs": [
    {
     "name": "stdout",
     "output_type": "stream",
     "text": [
      "https://huggingface.co/hfl/chinese-electra-180g-small-ex-discriminator/resolve/main/.gitattributes\n",
      "https://huggingface.co/hfl/chinese-electra-180g-small-ex-discriminator/resolve/main/README.md\n",
      "https://huggingface.co/hfl/chinese-electra-180g-small-ex-discriminator/resolve/main/added_tokens.json\n",
      "https://huggingface.co/hfl/chinese-electra-180g-small-ex-discriminator/resolve/main/config.json\n",
      "https://huggingface.co/hfl/chinese-electra-180g-small-ex-discriminator/resolve/main/pytorch_model.bin\n",
      "https://huggingface.co/hfl/chinese-electra-180g-small-ex-discriminator/resolve/main/special_tokens_map.json\n",
      "https://huggingface.co/hfl/chinese-electra-180g-small-ex-discriminator/resolve/main/tf_model.h5\n",
      "https://huggingface.co/hfl/chinese-electra-180g-small-ex-discriminator/resolve/main/tokenizer.json\n",
      "https://huggingface.co/hfl/chinese-electra-180g-small-ex-discriminator/resolve/main/tokenizer_config.json\n",
      "https://huggingface.co/hfl/chinese-electra-180g-small-ex-discriminator/resolve/main/vocab.txt\n"
     ]
    }
   ],
   "source": [
    "download_urls = get_hub(model_url)"
   ]
  },
  {
   "cell_type": "code",
   "execution_count": null,
   "metadata": {},
   "outputs": [],
   "source": [
    "rpc.download_urls(urls=download_urls)"
   ]
  }
 ],
 "metadata": {
  "kernelspec": {
   "display_name": "Python 3",
   "language": "python",
   "name": "python3"
  },
  "language_info": {
   "codemirror_mode": {
    "name": "ipython",
    "version": 3
   },
   "file_extension": ".py",
   "mimetype": "text/x-python",
   "name": "python",
   "nbconvert_exporter": "python",
   "pygments_lexer": "ipython3",
   "version": "3.8.13"
  }
 },
 "nbformat": 4,
 "nbformat_minor": 0
}
